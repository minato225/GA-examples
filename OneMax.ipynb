{
 "cells": [
  {
   "cell_type": "code",
   "execution_count": 1,
   "id": "c838737e",
   "metadata": {},
   "outputs": [],
   "source": [
    "from deap import base, algorithms\n",
    "from deap import creator\n",
    "from deap import tools\n",
    "\n",
    "import random\n",
    "import matplotlib.pyplot as plt\n",
    "import numpy as np"
   ]
  },
  {
   "cell_type": "markdown",
   "id": "897f310b",
   "metadata": {},
   "source": [
    "### Константы задачи"
   ]
  },
  {
   "cell_type": "code",
   "execution_count": 2,
   "id": "78fb6e74",
   "metadata": {},
   "outputs": [],
   "source": [
    "ONE_MAX_LENGTH = 100    # длина подлежащей оптимизации битовой строки\n",
    "\n",
    "POPULATION_SIZE = 200   # количество индивидуумов в популяции\n",
    "P_CROSSOVER = 0.9       # вероятность скрещивания\n",
    "P_MUTATION = 0.1        # вероятность мутации индивидуума\n",
    "MAX_GENERATIONS = 50    # максимальное количество поколений\n",
    "\n",
    "RANDOM_SEED = 42\n",
    "random.seed(RANDOM_SEED)"
   ]
  },
  {
   "cell_type": "markdown",
   "id": "70e31ffe",
   "metadata": {},
   "source": [
    "### Fitness Функция "
   ]
  },
  {
   "cell_type": "code",
   "execution_count": 3,
   "id": "fd42a0cf",
   "metadata": {},
   "outputs": [],
   "source": [
    "def oneMaxFitness(individual):\n",
    "    return sum(individual),"
   ]
  },
  {
   "cell_type": "markdown",
   "id": "df2b380e",
   "metadata": {},
   "source": [
    "### Регистарция фитнесс функции"
   ]
  },
  {
   "cell_type": "code",
   "execution_count": 4,
   "id": "11833634",
   "metadata": {},
   "outputs": [],
   "source": [
    "creator.create(\"FitnessMax\", base.Fitness, weights=(1.0,))\n",
    "creator.create(\"Individual\", list, fitness=creator.FitnessMax)"
   ]
  },
  {
   "cell_type": "markdown",
   "id": "19bd1811",
   "metadata": {},
   "source": [
    "### Регистарция ToolBox"
   ]
  },
  {
   "cell_type": "code",
   "execution_count": 5,
   "id": "e3751768",
   "metadata": {},
   "outputs": [],
   "source": [
    "toolbox = base.Toolbox()\n",
    "\n",
    "toolbox.register(\"zeroOrOne\", random.randint, 0, 1)\n",
    "toolbox.register(\"individualCreator\", tools.initRepeat, creator.Individual, toolbox.zeroOrOne, ONE_MAX_LENGTH)\n",
    "toolbox.register(\"populationCreator\", tools.initRepeat, list, toolbox.individualCreator)"
   ]
  },
  {
   "cell_type": "markdown",
   "id": "b72e3113",
   "metadata": {},
   "source": [
    "### Регистарция операторов отбора, скрещивания и мутации"
   ]
  },
  {
   "cell_type": "code",
   "execution_count": 6,
   "id": "06e7c365",
   "metadata": {},
   "outputs": [],
   "source": [
    "population = toolbox.populationCreator(n=POPULATION_SIZE)\n",
    "\n",
    "toolbox.register(\"evaluate\", oneMaxFitness)\n",
    "toolbox.register(\"select\", tools.selTournament, tournsize=3)\n",
    "toolbox.register(\"mate\", tools.cxOnePoint)\n",
    "toolbox.register(\"mutate\", tools.mutFlipBit, indpb=1.0/ONE_MAX_LENGTH)\n"
   ]
  },
  {
   "cell_type": "markdown",
   "id": "0a71d61a",
   "metadata": {},
   "source": [
    "### Сбор статистики"
   ]
  },
  {
   "cell_type": "code",
   "execution_count": 7,
   "id": "753084ae",
   "metadata": {},
   "outputs": [
    {
     "name": "stdout",
     "output_type": "stream",
     "text": [
      "gen\tnevals\tmax\tavg   \n",
      "0  \t200   \t61 \t49.695\n",
      "1  \t193   \t65 \t53.575\n",
      "2  \t179   \t66 \t56.855\n",
      "3  \t187   \t69 \t59.42 \n",
      "4  \t184   \t70 \t62.03 \n",
      "5  \t188   \t75 \t64.715\n",
      "6  \t176   \t75 \t67.515\n",
      "7  \t184   \t77 \t70.215\n",
      "8  \t180   \t81 \t72.475\n",
      "9  \t174   \t82 \t74.79 \n",
      "10 \t172   \t85 \t76.685\n",
      "11 \t177   \t85 \t78.46 \n",
      "12 \t178   \t87 \t80.265\n",
      "13 \t178   \t87 \t81.8  \n",
      "14 \t184   \t87 \t83.15 \n",
      "15 \t181   \t89 \t84.4  \n",
      "16 \t185   \t89 \t85.59 \n",
      "17 \t174   \t90 \t86.755\n",
      "18 \t186   \t91 \t87.715\n",
      "19 \t184   \t92 \t88.495\n",
      "20 \t178   \t92 \t89.275\n",
      "21 \t176   \t93 \t90.04 \n",
      "22 \t185   \t94 \t90.865\n",
      "23 \t180   \t94 \t91.645\n",
      "24 \t177   \t95 \t92.69 \n",
      "25 \t191   \t95 \t93.325\n",
      "26 \t169   \t95 \t93.935\n",
      "27 \t184   \t96 \t94.39 \n",
      "28 \t184   \t96 \t94.84 \n",
      "29 \t179   \t96 \t95.07 \n",
      "30 \t183   \t97 \t95.325\n",
      "31 \t180   \t97 \t95.69 \n",
      "32 \t189   \t97 \t95.93 \n",
      "33 \t177   \t97 \t96.085\n",
      "34 \t188   \t98 \t96.325\n",
      "35 \t169   \t98 \t96.835\n",
      "36 \t182   \t98 \t97.18 \n",
      "37 \t183   \t99 \t97.655\n",
      "38 \t182   \t99 \t97.91 \n",
      "39 \t192   \t99 \t98.04 \n",
      "40 \t173   \t100\t98.29 \n",
      "41 \t182   \t100\t98.55 \n",
      "42 \t176   \t100\t98.915\n",
      "43 \t188   \t100\t99.195\n",
      "44 \t192   \t100\t99.595\n",
      "45 \t193   \t100\t99.82 \n",
      "46 \t189   \t100\t99.82 \n",
      "47 \t189   \t100\t99.895\n",
      "48 \t190   \t100\t99.875\n",
      "49 \t187   \t100\t99.83 \n",
      "50 \t184   \t100\t99.89 \n"
     ]
    }
   ],
   "source": [
    "stats = tools.Statistics(lambda ind: ind.fitness.values)\n",
    "stats.register(\"max\", np.max)\n",
    "stats.register(\"avg\", np.mean)\n",
    "\n",
    "population, logbook = algorithms.eaSimple(population, toolbox,\n",
    "                                        cxpb=P_CROSSOVER,\n",
    "                                        mutpb=P_MUTATION,\n",
    "                                        ngen=MAX_GENERATIONS,\n",
    "                                        stats=stats,\n",
    "                                        verbose=True)\n",
    "\n",
    "maxFitnessValues, meanFitnessValues = logbook.select(\"max\", \"avg\")"
   ]
  },
  {
   "cell_type": "markdown",
   "id": "42be7497",
   "metadata": {},
   "source": [
    "### График зависимости максимальной и средней приспособленности от поколения"
   ]
  },
  {
   "cell_type": "code",
   "execution_count": 8,
   "id": "7a521fb6",
   "metadata": {},
   "outputs": [
    {
     "data": {
      "image/png": "[encoded data removed]",
      "text/plain": [
       "<Figure size 640x480 with 1 Axes>"
      ]
     },
     "metadata": {},
     "output_type": "display_data"
    }
   ],
   "source": [
    "plt.plot(maxFitnessValues, color='red')\n",
    "plt.plot(meanFitnessValues, color='green')\n",
    "plt.xlabel('Поколение')\n",
    "plt.ylabel('Макс/средняя приспособленность')\n",
    "plt.show()"
   ]
  },
  {
   "cell_type": "code",
   "execution_count": null,
   "id": "37b39af8",
   "metadata": {},
   "outputs": [],
   "source": []
  }
 ],
 "metadata": {
  "kernelspec": {
   "display_name": "Python 3 (ipykernel)",
   "language": "python",
   "name": "python3"
  },
  "language_info": {
   "codemirror_mode": {
    "name": "ipython",
    "version": 3
   },
   "file_extension": ".py",
   "mimetype": "text/x-python",
   "name": "python",
   "nbconvert_exporter": "python",
   "pygments_lexer": "ipython3",
   "version": "3.11.0"
  }
 },
 "nbformat": 4,
 "nbformat_minor": 5
}
